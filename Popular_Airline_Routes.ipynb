{
 "cells": [
  {
   "cell_type": "code",
   "execution_count": 1,
   "id": "b64a2050",
   "metadata": {},
   "outputs": [
    {
     "name": "stdout",
     "output_type": "stream",
     "text": [
      "{\"success\":true,\"data\":{\"AER-AYT\":17484562,\"AER-IST\":51463877,\"AER-KZN\":26212676,\"AER-LED\":51142109,\"AER-MCX\":19045704,\"AER-MRV\":23648467,\"AER-SVO\":2220260234,\"AER-SVX\":24669972,\"ALA-SVO\":19184344,\"ARH-SVO\":72663059,\"ASF-SVO\":38035623,\"AYT-SVO\":96721969,\"CEK-SVO\":103355137,\"DXB-SVO\":28583571,\"EVN-SVO\":93357956,\"FRU-SVO\":44229134,\"GOJ-SVO\":58394763,\"GSV-SVO\":31315086,\"GYD-SVO\":52797733,\"IKT-SVO\":82571075,\"IST-AER\":35821854,\"IST-SVO\":258350300,\"KGD-SVO\":196717365,\"KHV-SVO\":27873151,\"KJA-SVO\":191867093,\"KUF-AER\":23665923,\"KUF-SVO\":441674908,\"KZN-AER\":37470548,\"KZN-SVO\":669336720,\"LED-AER\":73959094,\"LED-SVO\":4073179899,\"LED-VKO\":21876668,\"MCX-AER\":21552320,\"MCX-SVO\":145979467,\"MMK-SVO\":52071812,\"MRV-AER\":28277023,\"MRV-SVO\":445354604,\"MSQ-SVO\":117945229,\"NBC-SVO\":30932649,\"NQZ-SVO\":19244168,\"OMS-SVO\":68219577,\"OVB-SVO\":246325938,\"PEE-SVO\":174255799,\"REN-SVO\":24992919,\"SCW-SVO\":20587031,\"SGC-SVO\":89049630,\"SVO-AER\":2865748874,\"SVO-ALA\":19083407,\"SVO-ARH\":68832088,\"SVO-ASF\":43577775,\"SVO-AYT\":123378261,\"SVO-CEK\":114214636,\"SVO-DXB\":35584334,\"SVO-EVN\":128429324,\"SVO-FRU\":62989278,\"SVO-GOJ\":87126288,\"SVO-GRV\":35439415,\"SVO-GSV\":41234025,\"SVO-GYD\":85017000,\"SVO-HKT\":19402724,\"SVO-IKT\":99791255,\"SVO-IST\":366663898,\"SVO-KGD\":226663645,\"SVO-KHV\":34934339,\"SVO-KJA\":215154885,\"SVO-KRR\":26942370,\"SVO-KUF\":529118649,\"SVO-KZN\":850672458,\"SVO-LED\":4744046121,\"SVO-MCX\":189793346,\"SVO-MMK\":50393353,\"SVO-MRV\":587162592,\"SVO-MSQ\":190986344,\"SVO-NBC\":35748041,\"SVO-NJC\":17685974,\"SVO-NQZ\":19523111,\"SVO-OMS\":83335772,\"SVO-OSS\":20244617,\"SVO-OVB\":253973397,\"SVO-PEE\":164945734,\"SVO-REN\":28969529,\"SVO-SGC\":80803735,\"SVO-SIP\":21953008,\"SVO-STW\":18168874,\"SVO-SVX\":969205389,\"SVO-TAS\":76018601,\"SVO-TJM\":137248392,\"SVO-UFA\":386709437,\"SVO-ULV\":17886740,\"SVO-VOG\":95543677,\"SVO-VVO\":51464392,\"SVX-AER\":31063432,\"SVX-SVO\":952239176,\"TAS-SVO\":43852204,\"TJM-SVO\":170188848,\"UFA-AER\":20703204,\"UFA-SVO\":376028333,\"VKO-LED\":25897929,\"VOG-SVO\":71621810,\"VVO-SVO\":34836507}}\n"
     ]
    }
   ],
   "source": [
    "import requests\n",
    "import pandas as pd\n",
    "\n",
    "url = \"https://api.travelpayouts.com/v1/airline-directions\"\n",
    "querystring = {\"airline_code\":\"SU\",\"limit\":\"100\"}\n",
    "headers = {'x-access-token': 'ed6b78b7b8edbc7d0fb93a75c7b3a308'}\n",
    "\n",
    "response = requests.request(\"GET\", url, headers=headers, params=querystring)\n",
    "\n",
    "print(response.text)"
   ]
  },
  {
   "cell_type": "code",
   "execution_count": 3,
   "id": "de018678",
   "metadata": {},
   "outputs": [
    {
     "name": "stdout",
     "output_type": "stream",
     "text": [
      "   ARN-LPI  ARN-MXX  ARN-OSD  ARN-QYX  ARN-XYB  IBZ-PMI  LPI-ARN  MAH-PMI  \\\n",
      "0      321       15       58       34       61      115      301       54   \n",
      "\n",
      "   MXX-ARN  OSD-ARN  PMI-IBZ  PMI-MAH  QLS-ZRH  QYX-ARN  XYB-ARN  ZDJ-ZRH  \\\n",
      "0        7      123      256       66        7       48       52     8708   \n",
      "\n",
      "   ZRH-QLS  ZRH-ZDJ  \n",
      "0       34    13435  \n"
     ]
    }
   ],
   "source": [
    "import requests\n",
    "import pandas as pd\n",
    "\n",
    "url = \"https://api.travelpayouts.com/v1/airline-directions\"\n",
    "querystring = {\"airline_code\":\"SW\",\"limit\":\"100\"}\n",
    "headers = {'x-access-token': 'ed6b78b7b8edbc7d0fb93a75c7b3a308'}\n",
    "\n",
    "response = requests.request(\"GET\", url, headers=headers, params=querystring)\n",
    "\n",
    "data = response.json()['data']\n",
    "df = pd.json_normalize(data, sep='-')\n",
    "\n",
    "print(df.head())"
   ]
  },
  {
   "cell_type": "code",
   "execution_count": null,
   "id": "502370b7",
   "metadata": {},
   "outputs": [],
   "source": []
  }
 ],
 "metadata": {
  "kernelspec": {
   "display_name": "mlenv",
   "language": "python",
   "name": "mlenv"
  },
  "language_info": {
   "codemirror_mode": {
    "name": "ipython",
    "version": 3
   },
   "file_extension": ".py",
   "mimetype": "text/x-python",
   "name": "python",
   "nbconvert_exporter": "python",
   "pygments_lexer": "ipython3",
   "version": "3.7.13"
  }
 },
 "nbformat": 4,
 "nbformat_minor": 5
}
