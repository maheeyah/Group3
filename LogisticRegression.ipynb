{
 "cells": [
  {
   "cell_type": "code",
   "execution_count": 32,
   "id": "0d915dc8-8830-4331-86e7-452975815c45",
   "metadata": {},
   "outputs": [],
   "source": [
    "from path import Path\n",
    "import pandas as pd"
   ]
  },
  {
   "cell_type": "code",
   "execution_count": 33,
   "id": "4fa3a1de-8017-4e0b-b6d1-21e8d0b679e0",
   "metadata": {},
   "outputs": [
    {
     "data": {
      "text/html": [
       "<div>\n",
       "<style scoped>\n",
       "    .dataframe tbody tr th:only-of-type {\n",
       "        vertical-align: middle;\n",
       "    }\n",
       "\n",
       "    .dataframe tbody tr th {\n",
       "        vertical-align: top;\n",
       "    }\n",
       "\n",
       "    .dataframe thead th {\n",
       "        text-align: right;\n",
       "    }\n",
       "</style>\n",
       "<table border=\"1\" class=\"dataframe\">\n",
       "  <thead>\n",
       "    <tr style=\"text-align: right;\">\n",
       "      <th></th>\n",
       "      <th>Unnamed: 0</th>\n",
       "      <th>origin</th>\n",
       "      <th>destination</th>\n",
       "      <th>price</th>\n",
       "      <th>airline</th>\n",
       "      <th>flight_number</th>\n",
       "      <th>departure_at</th>\n",
       "      <th>transfers</th>\n",
       "      <th>Average Temperature (Farenheit)</th>\n",
       "      <th>Population</th>\n",
       "    </tr>\n",
       "  </thead>\n",
       "  <tbody>\n",
       "    <tr>\n",
       "      <th>0</th>\n",
       "      <td>5/4/23</td>\n",
       "      <td>PHX</td>\n",
       "      <td>NYC</td>\n",
       "      <td>518</td>\n",
       "      <td>AS</td>\n",
       "      <td>763</td>\n",
       "      <td>2023-05-04T16:40:00-07:00</td>\n",
       "      <td>1</td>\n",
       "      <td>53.4</td>\n",
       "      <td>8,804,190</td>\n",
       "    </tr>\n",
       "    <tr>\n",
       "      <th>1</th>\n",
       "      <td>5/5/23</td>\n",
       "      <td>PHX</td>\n",
       "      <td>NYC</td>\n",
       "      <td>518</td>\n",
       "      <td>AS</td>\n",
       "      <td>763</td>\n",
       "      <td>2023-05-05T16:40:00-07:00</td>\n",
       "      <td>1</td>\n",
       "      <td>53.4</td>\n",
       "      <td>8,804,190</td>\n",
       "    </tr>\n",
       "    <tr>\n",
       "      <th>2</th>\n",
       "      <td>5/6/23</td>\n",
       "      <td>PHX</td>\n",
       "      <td>NYC</td>\n",
       "      <td>419</td>\n",
       "      <td>AS</td>\n",
       "      <td>611</td>\n",
       "      <td>2023-05-06T18:50:00-07:00</td>\n",
       "      <td>1</td>\n",
       "      <td>53.4</td>\n",
       "      <td>8,804,190</td>\n",
       "    </tr>\n",
       "    <tr>\n",
       "      <th>3</th>\n",
       "      <td>5/7/23</td>\n",
       "      <td>PHX</td>\n",
       "      <td>NYC</td>\n",
       "      <td>437</td>\n",
       "      <td>DL</td>\n",
       "      <td>673</td>\n",
       "      <td>2023-05-06T23:15:00-07:00</td>\n",
       "      <td>0</td>\n",
       "      <td>53.4</td>\n",
       "      <td>8,804,190</td>\n",
       "    </tr>\n",
       "    <tr>\n",
       "      <th>4</th>\n",
       "      <td>5/8/23</td>\n",
       "      <td>PHX</td>\n",
       "      <td>NYC</td>\n",
       "      <td>447</td>\n",
       "      <td>NaN</td>\n",
       "      <td>4020</td>\n",
       "      <td>2023-05-07T18:13:00-07:00</td>\n",
       "      <td>1</td>\n",
       "      <td>53.4</td>\n",
       "      <td>8,804,190</td>\n",
       "    </tr>\n",
       "  </tbody>\n",
       "</table>\n",
       "</div>"
      ],
      "text/plain": [
       "  Unnamed: 0 origin destination  price airline  flight_number  \\\n",
       "0     5/4/23    PHX         NYC    518      AS            763   \n",
       "1     5/5/23    PHX         NYC    518      AS            763   \n",
       "2     5/6/23    PHX         NYC    419      AS            611   \n",
       "3     5/7/23    PHX         NYC    437      DL            673   \n",
       "4     5/8/23    PHX         NYC    447     NaN           4020   \n",
       "\n",
       "                departure_at  transfers  Average Temperature (Farenheit)  \\\n",
       "0  2023-05-04T16:40:00-07:00          1                             53.4   \n",
       "1  2023-05-05T16:40:00-07:00          1                             53.4   \n",
       "2  2023-05-06T18:50:00-07:00          1                             53.4   \n",
       "3  2023-05-06T23:15:00-07:00          0                             53.4   \n",
       "4  2023-05-07T18:13:00-07:00          1                             53.4   \n",
       "\n",
       "  Population  \n",
       "0  8,804,190  \n",
       "1  8,804,190  \n",
       "2  8,804,190  \n",
       "3  8,804,190  \n",
       "4  8,804,190  "
      ]
     },
     "execution_count": 33,
     "metadata": {},
     "output_type": "execute_result"
    }
   ],
   "source": [
    "data = Path('../Group3/Group3Dataset.csv')\n",
    "df = pd.read_csv(data)\n",
    "df.head()"
   ]
  },
  {
   "cell_type": "code",
   "execution_count": 34,
   "id": "f95c4536-5c42-41ba-83e1-f3c1692bfddf",
   "metadata": {},
   "outputs": [
    {
     "data": {
      "text/plain": [
       "Unnamed: 0                          object\n",
       "origin                              object\n",
       "destination                         object\n",
       "price                                int64\n",
       "airline                             object\n",
       "flight_number                        int64\n",
       "departure_at                        object\n",
       "transfers                            int64\n",
       "Average Temperature (Farenheit)    float64\n",
       "Population                          object\n",
       "dtype: object"
      ]
     },
     "execution_count": 34,
     "metadata": {},
     "output_type": "execute_result"
    }
   ],
   "source": [
    "df.dtypes"
   ]
  },
  {
   "cell_type": "code",
   "execution_count": 35,
   "id": "b0864d7e-aaea-40db-a2ef-aeef54bbc363",
   "metadata": {},
   "outputs": [],
   "source": [
    "# Change object to int\n",
    "df['Population'] = df['Population'].str.replace(',', '').astype(int)"
   ]
  },
  {
   "cell_type": "code",
   "execution_count": 36,
   "id": "b072f377-bb7d-4555-8a64-5f9cc34b06a1",
   "metadata": {},
   "outputs": [
    {
     "data": {
      "text/plain": [
       "Unnamed: 0                          object\n",
       "origin                              object\n",
       "destination                         object\n",
       "price                                int64\n",
       "airline                             object\n",
       "flight_number                        int64\n",
       "departure_at                        object\n",
       "transfers                            int64\n",
       "Average Temperature (Farenheit)    float64\n",
       "Population                           int64\n",
       "dtype: object"
      ]
     },
     "execution_count": 36,
     "metadata": {},
     "output_type": "execute_result"
    }
   ],
   "source": [
    "df.dtypes"
   ]
  },
  {
   "cell_type": "code",
   "execution_count": null,
   "id": "af4fdcdf-2761-40be-9c6f-f50148fd3784",
   "metadata": {},
   "outputs": [],
   "source": []
  },
  {
   "cell_type": "code",
   "execution_count": 68,
   "id": "27def508-eb9e-4bfe-a394-69526378714f",
   "metadata": {},
   "outputs": [],
   "source": [
    "# Define variable and target\n",
    "X = df['Population'].values.reshape(-1,1) # independent variable\n",
    "y = df['price'].values # target variable"
   ]
  },
  {
   "cell_type": "code",
   "execution_count": 69,
   "id": "00ecc3f0-5678-4b98-8245-ee6b760b7582",
   "metadata": {},
   "outputs": [],
   "source": [
    "#Split for training and testing\n",
    "X_train, X_test, y_train, y_test = train_test_split(X, y, test_size=0.2, random_state=0)"
   ]
  },
  {
   "cell_type": "code",
   "execution_count": 70,
   "id": "dd929e1e-d260-4242-a9e4-7df6ecd8c25e",
   "metadata": {},
   "outputs": [],
   "source": [
    "# Create Logistic Regression Model\n",
    "from sklearn.linear_model import LogisticRegression\n",
    "classifier = LogisticRegression(solver='lbfgs',\n",
    "                                max_iter=200,\n",
    "                                random_state=1)"
   ]
  },
  {
   "cell_type": "code",
   "execution_count": null,
   "id": "eb3bc729-a822-4dc2-9dd4-b4d7e3791775",
   "metadata": {},
   "outputs": [],
   "source": []
  },
  {
   "cell_type": "code",
   "execution_count": 71,
   "id": "404f999b-7249-4b19-8a00-e7203795ac8a",
   "metadata": {},
   "outputs": [
    {
     "data": {
      "text/plain": [
       "LogisticRegression(max_iter=200, random_state=1)"
      ]
     },
     "execution_count": 71,
     "metadata": {},
     "output_type": "execute_result"
    }
   ],
   "source": [
    "# Fit the model\n",
    "classifier.fit(X_train, y_train)"
   ]
  },
  {
   "cell_type": "code",
   "execution_count": 72,
   "id": "f07dfab4-8e4e-4213-9d7d-2e11a8a6bcde",
   "metadata": {},
   "outputs": [
    {
     "data": {
      "text/html": [
       "<div>\n",
       "<style scoped>\n",
       "    .dataframe tbody tr th:only-of-type {\n",
       "        vertical-align: middle;\n",
       "    }\n",
       "\n",
       "    .dataframe tbody tr th {\n",
       "        vertical-align: top;\n",
       "    }\n",
       "\n",
       "    .dataframe thead th {\n",
       "        text-align: right;\n",
       "    }\n",
       "</style>\n",
       "<table border=\"1\" class=\"dataframe\">\n",
       "  <thead>\n",
       "    <tr style=\"text-align: right;\">\n",
       "      <th></th>\n",
       "      <th>Prediction</th>\n",
       "      <th>Actual</th>\n",
       "    </tr>\n",
       "  </thead>\n",
       "  <tbody>\n",
       "    <tr>\n",
       "      <th>0</th>\n",
       "      <td>317</td>\n",
       "      <td>197</td>\n",
       "    </tr>\n",
       "    <tr>\n",
       "      <th>1</th>\n",
       "      <td>317</td>\n",
       "      <td>416</td>\n",
       "    </tr>\n",
       "    <tr>\n",
       "      <th>2</th>\n",
       "      <td>317</td>\n",
       "      <td>147</td>\n",
       "    </tr>\n",
       "    <tr>\n",
       "      <th>3</th>\n",
       "      <td>317</td>\n",
       "      <td>277</td>\n",
       "    </tr>\n",
       "    <tr>\n",
       "      <th>4</th>\n",
       "      <td>317</td>\n",
       "      <td>286</td>\n",
       "    </tr>\n",
       "    <tr>\n",
       "      <th>5</th>\n",
       "      <td>317</td>\n",
       "      <td>2275</td>\n",
       "    </tr>\n",
       "    <tr>\n",
       "      <th>6</th>\n",
       "      <td>317</td>\n",
       "      <td>464</td>\n",
       "    </tr>\n",
       "    <tr>\n",
       "      <th>7</th>\n",
       "      <td>317</td>\n",
       "      <td>240</td>\n",
       "    </tr>\n",
       "    <tr>\n",
       "      <th>8</th>\n",
       "      <td>317</td>\n",
       "      <td>287</td>\n",
       "    </tr>\n",
       "    <tr>\n",
       "      <th>9</th>\n",
       "      <td>317</td>\n",
       "      <td>67</td>\n",
       "    </tr>\n",
       "    <tr>\n",
       "      <th>10</th>\n",
       "      <td>317</td>\n",
       "      <td>147</td>\n",
       "    </tr>\n",
       "    <tr>\n",
       "      <th>11</th>\n",
       "      <td>317</td>\n",
       "      <td>277</td>\n",
       "    </tr>\n",
       "    <tr>\n",
       "      <th>12</th>\n",
       "      <td>317</td>\n",
       "      <td>617</td>\n",
       "    </tr>\n",
       "    <tr>\n",
       "      <th>13</th>\n",
       "      <td>317</td>\n",
       "      <td>66</td>\n",
       "    </tr>\n",
       "    <tr>\n",
       "      <th>14</th>\n",
       "      <td>317</td>\n",
       "      <td>317</td>\n",
       "    </tr>\n",
       "    <tr>\n",
       "      <th>15</th>\n",
       "      <td>317</td>\n",
       "      <td>67</td>\n",
       "    </tr>\n",
       "    <tr>\n",
       "      <th>16</th>\n",
       "      <td>317</td>\n",
       "      <td>835</td>\n",
       "    </tr>\n",
       "    <tr>\n",
       "      <th>17</th>\n",
       "      <td>317</td>\n",
       "      <td>287</td>\n",
       "    </tr>\n",
       "    <tr>\n",
       "      <th>18</th>\n",
       "      <td>317</td>\n",
       "      <td>277</td>\n",
       "    </tr>\n",
       "    <tr>\n",
       "      <th>19</th>\n",
       "      <td>317</td>\n",
       "      <td>157</td>\n",
       "    </tr>\n",
       "  </tbody>\n",
       "</table>\n",
       "</div>"
      ],
      "text/plain": [
       "    Prediction  Actual\n",
       "0          317     197\n",
       "1          317     416\n",
       "2          317     147\n",
       "3          317     277\n",
       "4          317     286\n",
       "5          317    2275\n",
       "6          317     464\n",
       "7          317     240\n",
       "8          317     287\n",
       "9          317      67\n",
       "10         317     147\n",
       "11         317     277\n",
       "12         317     617\n",
       "13         317      66\n",
       "14         317     317\n",
       "15         317      67\n",
       "16         317     835\n",
       "17         317     287\n",
       "18         317     277\n",
       "19         317     157"
      ]
     },
     "execution_count": 72,
     "metadata": {},
     "output_type": "execute_result"
    }
   ],
   "source": [
    "y_pred = classifier.predict(X_test)\n",
    "results = pd.DataFrame({\"Prediction\": y_pred, \"Actual\": y_test}).reset_index(drop=True)\n",
    "results.head(20)"
   ]
  },
  {
   "cell_type": "code",
   "execution_count": 73,
   "id": "b7b60a61-dfdd-44c0-a577-3bfafa44b007",
   "metadata": {},
   "outputs": [
    {
     "name": "stdout",
     "output_type": "stream",
     "text": [
      "0.01556420233463035\n"
     ]
    }
   ],
   "source": [
    "from sklearn.metrics import accuracy_score\n",
    "print(accuracy_score(y_test, y_pred))"
   ]
  },
  {
   "cell_type": "code",
   "execution_count": null,
   "id": "cf89ae1e-b34b-4412-a8b8-9d9a7f751ef6",
   "metadata": {},
   "outputs": [],
   "source": []
  }
 ],
 "metadata": {
  "kernelspec": {
   "display_name": "mlenv",
   "language": "python",
   "name": "mlenv"
  },
  "language_info": {
   "codemirror_mode": {
    "name": "ipython",
    "version": 3
   },
   "file_extension": ".py",
   "mimetype": "text/x-python",
   "name": "python",
   "nbconvert_exporter": "python",
   "pygments_lexer": "ipython3",
   "version": "3.7.13"
  }
 },
 "nbformat": 4,
 "nbformat_minor": 5
}
