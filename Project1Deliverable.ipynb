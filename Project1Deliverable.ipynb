{
 "cells": [
  {
   "cell_type": "code",
   "execution_count": 12,
   "id": "48dd5019-b692-4ecc-9d37-400d3232ef18",
   "metadata": {},
   "outputs": [
    {
     "name": "stdout",
     "output_type": "stream",
     "text": [
      "{\"status\":\"ok\",\"results\":{\"locations\":[{\"countryName\":\"United States\",\"cityName\":\"Phoenix\",\"id\":\"16826\",\"countryCode\":\"US\",\"hotelsCount\":\"618\",\"fullName\":\"Phoenix, Arizona, United States\",\"_score\":618,\"iata\":[\"PHX\",\"PHX\",\"AZA\",\"SCF\"],\"location\":{\"lon\":\"-112.074037\",\"lat\":\"33.448377\"}}]}}\n"
     ]
    }
   ],
   "source": [
    "import requests\n",
    "url = \"http://engine.hotellook.com/api/v2/lookup.json\"\n",
    "headers = {'x-access-token': 'ed6b78b7b8edbc7d0fb93a75c7b3a308'}\n",
    "querystring = {\"query\":\"phoenix\", \"lang\":\"en\",\"lookFor\":\"city\",\"limit\":\"1\",\"token\":\"ed6b78b7b8edbc7d0fb93a75c7b3a308\"}\n",
    "response = requests.request(\"GET\", url, headers=headers, params=querystring)\n",
    "print(response.text)"
   ]
  },
  {
   "cell_type": "code",
   "execution_count": null,
   "id": "ecf195e1-f0ff-4912-a978-dea31306f334",
   "metadata": {},
   "outputs": [],
   "source": []
  }
 ],
 "metadata": {
  "kernelspec": {
   "display_name": "Python 3 (ipykernel)",
   "language": "python",
   "name": "python3"
  },
  "language_info": {
   "codemirror_mode": {
    "name": "ipython",
    "version": 3
   },
   "file_extension": ".py",
   "mimetype": "text/x-python",
   "name": "python",
   "nbconvert_exporter": "python",
   "pygments_lexer": "ipython3",
   "version": "3.9.13"
  }
 },
 "nbformat": 4,
 "nbformat_minor": 5
}
