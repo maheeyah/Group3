{
 "cells": [
  {
   "cell_type": "code",
   "execution_count": 2,
   "id": "4e3d6de7-d1ec-4988-9a09-fb69439d3f98",
   "metadata": {},
   "outputs": [],
   "source": [
    "import pandas as pd\n",
    "from pathlib import Path\n",
    "import matplotlib.pyplot as plt\n",
    "from sklearn.linear_model import LinearRegression"
   ]
  },
  {
   "cell_type": "code",
   "execution_count": 7,
   "id": "f974948a-7ef5-460e-8a38-d479024a5ff1",
   "metadata": {},
   "outputs": [
    {
     "data": {
      "text/html": [
       "<div>\n",
       "<style scoped>\n",
       "    .dataframe tbody tr th:only-of-type {\n",
       "        vertical-align: middle;\n",
       "    }\n",
       "\n",
       "    .dataframe tbody tr th {\n",
       "        vertical-align: top;\n",
       "    }\n",
       "\n",
       "    .dataframe thead th {\n",
       "        text-align: right;\n",
       "    }\n",
       "</style>\n",
       "<table border=\"1\" class=\"dataframe\">\n",
       "  <thead>\n",
       "    <tr style=\"text-align: right;\">\n",
       "      <th></th>\n",
       "      <th>Unnamed: 0</th>\n",
       "      <th>origin</th>\n",
       "      <th>destination</th>\n",
       "      <th>price</th>\n",
       "      <th>airline</th>\n",
       "      <th>flight_number</th>\n",
       "      <th>departure_at</th>\n",
       "      <th>transfers</th>\n",
       "      <th>Average Temperature (Farenheit)</th>\n",
       "      <th>Population</th>\n",
       "    </tr>\n",
       "  </thead>\n",
       "  <tbody>\n",
       "    <tr>\n",
       "      <th>0</th>\n",
       "      <td>5/4/23</td>\n",
       "      <td>PHX</td>\n",
       "      <td>NYC</td>\n",
       "      <td>518</td>\n",
       "      <td>AS</td>\n",
       "      <td>763</td>\n",
       "      <td>2023-05-04T16:40:00-07:00</td>\n",
       "      <td>1</td>\n",
       "      <td>53.4</td>\n",
       "      <td>8,804,190</td>\n",
       "    </tr>\n",
       "    <tr>\n",
       "      <th>1</th>\n",
       "      <td>5/5/23</td>\n",
       "      <td>PHX</td>\n",
       "      <td>NYC</td>\n",
       "      <td>518</td>\n",
       "      <td>AS</td>\n",
       "      <td>763</td>\n",
       "      <td>2023-05-05T16:40:00-07:00</td>\n",
       "      <td>1</td>\n",
       "      <td>53.4</td>\n",
       "      <td>8,804,190</td>\n",
       "    </tr>\n",
       "    <tr>\n",
       "      <th>2</th>\n",
       "      <td>5/6/23</td>\n",
       "      <td>PHX</td>\n",
       "      <td>NYC</td>\n",
       "      <td>419</td>\n",
       "      <td>AS</td>\n",
       "      <td>611</td>\n",
       "      <td>2023-05-06T18:50:00-07:00</td>\n",
       "      <td>1</td>\n",
       "      <td>53.4</td>\n",
       "      <td>8,804,190</td>\n",
       "    </tr>\n",
       "    <tr>\n",
       "      <th>3</th>\n",
       "      <td>5/7/23</td>\n",
       "      <td>PHX</td>\n",
       "      <td>NYC</td>\n",
       "      <td>437</td>\n",
       "      <td>DL</td>\n",
       "      <td>673</td>\n",
       "      <td>2023-05-06T23:15:00-07:00</td>\n",
       "      <td>0</td>\n",
       "      <td>53.4</td>\n",
       "      <td>8,804,190</td>\n",
       "    </tr>\n",
       "    <tr>\n",
       "      <th>4</th>\n",
       "      <td>5/8/23</td>\n",
       "      <td>PHX</td>\n",
       "      <td>NYC</td>\n",
       "      <td>447</td>\n",
       "      <td>NaN</td>\n",
       "      <td>4020</td>\n",
       "      <td>2023-05-07T18:13:00-07:00</td>\n",
       "      <td>1</td>\n",
       "      <td>53.4</td>\n",
       "      <td>8,804,190</td>\n",
       "    </tr>\n",
       "  </tbody>\n",
       "</table>\n",
       "</div>"
      ],
      "text/plain": [
       "  Unnamed: 0 origin destination  price airline  flight_number  \\\n",
       "0     5/4/23    PHX         NYC    518      AS            763   \n",
       "1     5/5/23    PHX         NYC    518      AS            763   \n",
       "2     5/6/23    PHX         NYC    419      AS            611   \n",
       "3     5/7/23    PHX         NYC    437      DL            673   \n",
       "4     5/8/23    PHX         NYC    447     NaN           4020   \n",
       "\n",
       "                departure_at  transfers  Average Temperature (Farenheit)  \\\n",
       "0  2023-05-04T16:40:00-07:00          1                             53.4   \n",
       "1  2023-05-05T16:40:00-07:00          1                             53.4   \n",
       "2  2023-05-06T18:50:00-07:00          1                             53.4   \n",
       "3  2023-05-06T23:15:00-07:00          0                             53.4   \n",
       "4  2023-05-07T18:13:00-07:00          1                             53.4   \n",
       "\n",
       "  Population  \n",
       "0  8,804,190  \n",
       "1  8,804,190  \n",
       "2  8,804,190  \n",
       "3  8,804,190  \n",
       "4  8,804,190  "
      ]
     },
     "execution_count": 7,
     "metadata": {},
     "output_type": "execute_result"
    }
   ],
   "source": [
    "df = pd.read_csv(Path('../Group3/Group3Dataset.csv'))\n",
    "df.head()"
   ]
  },
  {
   "cell_type": "code",
   "execution_count": 9,
   "id": "463fe49a-cbb2-4eb6-9c68-d40ddcd747b3",
   "metadata": {},
   "outputs": [
    {
     "data": {
      "text/plain": [
       "Unnamed: 0                          object\n",
       "origin                              object\n",
       "destination                         object\n",
       "price                                int64\n",
       "airline                             object\n",
       "flight_number                        int64\n",
       "departure_at                        object\n",
       "transfers                            int64\n",
       "Average Temperature (Farenheit)    float64\n",
       "Population                          object\n",
       "dtype: object"
      ]
     },
     "execution_count": 9,
     "metadata": {},
     "output_type": "execute_result"
    }
   ],
   "source": [
    "df.dtypes"
   ]
  },
  {
   "cell_type": "code",
   "execution_count": 13,
   "id": "c1b10cd3-c54c-4464-8248-89519ee85d9b",
   "metadata": {},
   "outputs": [],
   "source": [
    "df = df.rename(columns={'Average Temperature (Farenheit)': 'avg',})"
   ]
  },
  {
   "cell_type": "code",
   "execution_count": 15,
   "id": "d6663fd4-81d7-478d-8734-c6c15f4ee397",
   "metadata": {},
   "outputs": [
    {
     "data": {
      "image/png": "[encoded data removed]",
      "text/plain": [
       "<Figure size 640x480 with 1 Axes>"
      ]
     },
     "metadata": {},
     "output_type": "display_data"
    }
   ],
   "source": [
    "plt.scatter(df.avg, df.price)\n",
    "plt.xlabel('Average Annual Temperature')\n",
    "plt.ylabel('Ticket Price')\n",
    "plt.title('Linear Regression')\n",
    "plt.show()"
   ]
  },
  {
   "cell_type": "code",
   "execution_count": 16,
   "id": "a2c5da65-c193-48cc-a2c2-e1dc605f9407",
   "metadata": {},
   "outputs": [],
   "source": [
    "X = df.avg.values.reshape(-1,1)"
   ]
  },
  {
   "cell_type": "code",
   "execution_count": 17,
   "id": "5a4e693f-18d5-46a2-abb5-36f072459aa2",
   "metadata": {},
   "outputs": [],
   "source": [
    "y = df.price"
   ]
  },
  {
   "cell_type": "code",
   "execution_count": 18,
   "id": "38633132-00c8-4585-a665-97c98843d188",
   "metadata": {},
   "outputs": [],
   "source": [
    "model = LinearRegression()"
   ]
  },
  {
   "cell_type": "code",
   "execution_count": 19,
   "id": "180808c2-3d40-4ade-8318-35525f8729b2",
   "metadata": {},
   "outputs": [
    {
     "data": {
      "text/plain": [
       "LinearRegression()"
      ]
     },
     "execution_count": 19,
     "metadata": {},
     "output_type": "execute_result"
    }
   ],
   "source": [
    "model.fit(X,y)"
   ]
  },
  {
   "cell_type": "code",
   "execution_count": 20,
   "id": "7d90ec90-0932-456b-92f1-f7ef8bbdcab9",
   "metadata": {},
   "outputs": [
    {
     "name": "stdout",
     "output_type": "stream",
     "text": [
      "(1283,)\n"
     ]
    }
   ],
   "source": [
    "y_pred = model.predict(X)\n",
    "print(y_pred.shape)"
   ]
  },
  {
   "cell_type": "code",
   "execution_count": 21,
   "id": "c1d0eabd-21e7-4082-9245-85e697b0870c",
   "metadata": {},
   "outputs": [
    {
     "data": {
      "image/png": "[encoded data removed]",
      "text/plain": [
       "<Figure size 640x480 with 1 Axes>"
      ]
     },
     "metadata": {},
     "output_type": "display_data"
    }
   ],
   "source": [
    "plt.scatter(X, y)\n",
    "plt.xlabel('Average Annual Temperature')\n",
    "plt.ylabel('Ticket Price')\n",
    "plt.title('Linear Regression')\n",
    "plt.plot(X, y_pred, color ='red')\n",
    "plt.show()"
   ]
  },
  {
   "cell_type": "code",
   "execution_count": 22,
   "id": "82887f26-8052-4d64-a1bb-0763cae03724",
   "metadata": {},
   "outputs": [
    {
     "name": "stdout",
     "output_type": "stream",
     "text": [
      "[1.94996207]\n",
      "162.03452048096835\n"
     ]
    }
   ],
   "source": [
    "print(model.coef_)\n",
    "print(model.intercept_)"
   ]
  },
  {
   "cell_type": "code",
   "execution_count": null,
   "id": "9f213523-1c23-4f96-82cd-828b0a2086d1",
   "metadata": {},
   "outputs": [],
   "source": []
  },
  {
   "cell_type": "code",
   "execution_count": null,
   "id": "0523c256-62b2-4d74-a189-8f0e86f60f01",
   "metadata": {},
   "outputs": [],
   "source": []
  }
 ],
 "metadata": {
  "kernelspec": {
   "display_name": "mlenv",
   "language": "python",
   "name": "mlenv"
  },
  "language_info": {
   "codemirror_mode": {
    "name": "ipython",
    "version": 3
   },
   "file_extension": ".py",
   "mimetype": "text/x-python",
   "name": "python",
   "nbconvert_exporter": "python",
   "pygments_lexer": "ipython3",
   "version": "3.7.13"
  }
 },
 "nbformat": 4,
 "nbformat_minor": 5
}
