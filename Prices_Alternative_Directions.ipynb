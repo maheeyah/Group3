{
 "cells": [
  {
   "cell_type": "code",
   "execution_count": 1,
   "id": "8e5d79a8",
   "metadata": {},
   "outputs": [
    {
     "name": "stdout",
     "output_type": "stream",
     "text": [
      "{\"prices\":[{\"origin\":\"LED\",\"destination\":\"HKT\",\"price\":401,\"main_airline\":\"EO\",\"depart_date\":\"2023-05-11T07:25:00+03:00\",\"transfers\":1,\"duration\":1410,\"link\":\"/search/LED1105HKT1?t=EO16837791001683863700001410LEDVKOSVOHKT_57bbfe57cfb686406458566f2833ca1e_31402\\u0026search_date=05052023\\u0026expected_price_uuid=185876e8-f227-4b24-916d-6049c587c9bd\\u0026expected_price_currency=rub\",\"distance\":8009,\"found_at\":\"2023-05-05T02:56:52Z\",\"gate\":\"MEGO.travel\",\"trip_class\":0},{\"origin\":\"LED\",\"destination\":\"HKT\",\"price\":419,\"main_airline\":\"EO\",\"depart_date\":\"2023-05-08T18:10:00+03:00\",\"transfers\":1,\"duration\":2000,\"link\":\"/search/LED0805HKT1?t=EO16835586001683678600002000LEDVKOSVOHKT_7e0fde338a057e6c4657bbd1945f307e_32821\\u0026search_date=05052023\\u0026expected_price_uuid=5533616b-1756-4ad8-83a4-19f3726222cd\\u0026expected_price_currency=rub\",\"distance\":8009,\"found_at\":\"2023-05-05T02:56:27Z\",\"gate\":\"Aviakassa\",\"trip_class\":0},{\"origin\":\"LED\",\"destination\":\"HKT\",\"price\":429,\"main_airline\":\"HU\",\"depart_date\":\"2023-05-16T15:15:00+03:00\",\"transfers\":3,\"duration\":1650,\"link\":\"/search/LED1605HKT1?t=HU16842393001684338300001650LEDSVOPEKSZXHKT_fd898fcb49aa44121736c093ff6fa6fe_33600\\u0026search_date=05052023\\u0026expected_price_uuid=eff88edc-333f-490d-b651-694abec259f7\\u0026expected_price_currency=rub\",\"distance\":8009,\"found_at\":\"2023-05-05T01:01:52Z\",\"gate\":\"Kupi.com\",\"trip_class\":0},{\"origin\":\"LED\",\"destination\":\"HKT\",\"price\":411,\"main_airline\":\"EO\",\"depart_date\":\"2023-05-09T05:00:00+03:00\",\"transfers\":1,\"duration\":1350,\"link\":\"/search/LED0905HKT1?t=EO16835976001683678600001350LEDSVOHKT_b9825842b4e4ca2160406626400f01c0_32203\\u0026search_date=04052023\\u0026expected_price_uuid=7e638237-7c63-43b8-b52c-086f70b410ed\\u0026expected_price_currency=rub\",\"distance\":8009,\"found_at\":\"2023-05-04T18:42:00Z\",\"gate\":\"Aviakassa\",\"trip_class\":0},{\"origin\":\"LED\",\"destination\":\"HKT\",\"price\":437,\"main_airline\":\"HU\",\"depart_date\":\"2023-05-23T07:25:00+03:00\",\"transfers\":3,\"duration\":3300,\"link\":\"/search/LED2305HKT1?t=HU16848159001685013900003300LEDVKOSVOPEKCANHKT_76fdb7c1c2d0b67787e72623bcf1ad98_34210\\u0026search_date=04052023\\u0026expected_price_uuid=f4ce8a63-5517-4863-830f-806c096b5f69\\u0026expected_price_currency=rub\",\"distance\":8009,\"found_at\":\"2023-05-04T20:59:37Z\",\"gate\":\"Aviakassa\",\"trip_class\":0}],\"origins\":[\"LED\"],\"destinations\":[\"HKT\"]}\n"
     ]
    }
   ],
   "source": [
    "import requests\n",
    "import pandas as pd\n",
    "\n",
    "url = \"https://api.travelpayouts.com/v2/prices/nearest-places-matrix\"\n",
    "querystring = {\"currency\":\"usd\",\"show_to_affiliates\":\"true\",\"origin\":\"LED\",\"destination\":\"HKT\"}\n",
    "headers = {'x-access-token': 'ed6b78b7b8edbc7d0fb93a75c7b3a308'}\n",
    "\n",
    "response = requests.request(\"GET\", url, headers=headers, params=querystring)\n",
    "\n",
    "print(response.text)"
   ]
  },
  {
   "cell_type": "code",
   "execution_count": 3,
   "id": "fdc4aedd",
   "metadata": {},
   "outputs": [
    {
     "name": "stdout",
     "output_type": "stream",
     "text": [
      "  origin destination  price main_airline                depart_date  \\\n",
      "0    PHX         LAX     60           NK  2023-05-14T20:50:00-07:00   \n",
      "1    PHX         LAX     64           NK  2023-05-16T20:50:00-07:00   \n",
      "2    PHX         LAX     78           NK  2023-05-13T20:50:00-07:00   \n",
      "3    PHX         LAX     87           UA  2023-06-24T16:20:00-07:00   \n",
      "4    PHX         LAX    115           9X  2023-06-25T12:15:00-07:00   \n",
      "\n",
      "   transfers  duration                                               link  \\\n",
      "0          1      2707  /search/PHX1405LAX1?t=NK1684122600168428502000...   \n",
      "1          1       620  /search/PHX1605LAX1?t=NK1684295400168433260000...   \n",
      "2          1      2060  /search/PHX1305LAX1?t=NK1684036200168415980000...   \n",
      "3          0        89  /search/PHX2406LAX1?t=UA1687648800168765414000...   \n",
      "4          1       220  /search/PHX2506LAX1?t=9X1687720500168773370000...   \n",
      "\n",
      "   distance              found_at         gate  trip_class  \n",
      "0       595  2023-05-04T23:35:26Z     Kupi.com           0  \n",
      "1       595  2023-05-04T23:52:50Z    Clickavia           0  \n",
      "2       595  2023-05-03T23:19:08Z     Kupi.com           0  \n",
      "3       595  2023-05-03T05:36:28Z  City.Travel           0  \n",
      "4       595  2023-05-03T05:38:04Z   OneTwoTrip           0  \n"
     ]
    }
   ],
   "source": [
    "import requests\n",
    "import pandas as pd\n",
    "\n",
    "url = \"https://api.travelpayouts.com/v2/prices/nearest-places-matrix\"\n",
    "querystring = {\"currency\":\"usd\",\"show_to_affiliates\":\"true\",\"origin\":\"PHX\",\"destination\":\"LAX\"}\n",
    "headers = {'x-access-token': 'ed6b78b7b8edbc7d0fb93a75c7b3a308'}\n",
    "\n",
    "response = requests.request(\"GET\", url, headers=headers, params=querystring)\n",
    "\n",
    "data = response.json()\n",
    "\n",
    "# Create a DataFrame from the 'prices' key\n",
    "df = pd.json_normalize(data['prices'])\n",
    "\n",
    "# Extract the 'origins' and 'destinations' keys into separate columns\n",
    "df['origin'] = data['origins'][0]\n",
    "df['destination'] = data['destinations'][0]\n",
    "\n",
    "# Rearrange the columns in the desired order\n",
    "df = df[['origin', 'destination', 'price', 'main_airline', 'depart_date', 'transfers', 'duration', 'link', 'distance', 'found_at', 'gate', 'trip_class']]\n",
    "\n",
    "print(df)"
   ]
  },
  {
   "cell_type": "code",
   "execution_count": null,
   "id": "901ce771",
   "metadata": {},
   "outputs": [],
   "source": []
  }
 ],
 "metadata": {
  "kernelspec": {
   "display_name": "mlenv",
   "language": "python",
   "name": "mlenv"
  },
  "language_info": {
   "codemirror_mode": {
    "name": "ipython",
    "version": 3
   },
   "file_extension": ".py",
   "mimetype": "text/x-python",
   "name": "python",
   "nbconvert_exporter": "python",
   "pygments_lexer": "ipython3",
   "version": "3.7.13"
  }
 },
 "nbformat": 4,
 "nbformat_minor": 5
}
