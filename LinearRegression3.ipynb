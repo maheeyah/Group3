{
 "cells": [
  {
   "cell_type": "code",
   "execution_count": 11,
   "id": "0d915dc8-8830-4331-86e7-452975815c45",
   "metadata": {},
   "outputs": [],
   "source": [
    "from path import Path\n",
    "import pandas as pd\n",
    "from sklearn.linear_model import LinearRegression "
   ]
  },
  {
   "cell_type": "code",
   "execution_count": 2,
   "id": "4fa3a1de-8017-4e0b-b6d1-21e8d0b679e0",
   "metadata": {},
   "outputs": [
    {
     "data": {
      "text/html": [
       "<div>\n",
       "<style scoped>\n",
       "    .dataframe tbody tr th:only-of-type {\n",
       "        vertical-align: middle;\n",
       "    }\n",
       "\n",
       "    .dataframe tbody tr th {\n",
       "        vertical-align: top;\n",
       "    }\n",
       "\n",
       "    .dataframe thead th {\n",
       "        text-align: right;\n",
       "    }\n",
       "</style>\n",
       "<table border=\"1\" class=\"dataframe\">\n",
       "  <thead>\n",
       "    <tr style=\"text-align: right;\">\n",
       "      <th></th>\n",
       "      <th>Unnamed: 0</th>\n",
       "      <th>origin</th>\n",
       "      <th>destination</th>\n",
       "      <th>price</th>\n",
       "      <th>airline</th>\n",
       "      <th>flight_number</th>\n",
       "      <th>departure_at</th>\n",
       "      <th>transfers</th>\n",
       "      <th>Average Temperature (Farenheit)</th>\n",
       "      <th>Population</th>\n",
       "    </tr>\n",
       "  </thead>\n",
       "  <tbody>\n",
       "    <tr>\n",
       "      <th>0</th>\n",
       "      <td>5/4/23</td>\n",
       "      <td>PHX</td>\n",
       "      <td>NYC</td>\n",
       "      <td>518</td>\n",
       "      <td>AS</td>\n",
       "      <td>763</td>\n",
       "      <td>2023-05-04T16:40:00-07:00</td>\n",
       "      <td>1</td>\n",
       "      <td>53.4</td>\n",
       "      <td>8,804,190</td>\n",
       "    </tr>\n",
       "    <tr>\n",
       "      <th>1</th>\n",
       "      <td>5/5/23</td>\n",
       "      <td>PHX</td>\n",
       "      <td>NYC</td>\n",
       "      <td>518</td>\n",
       "      <td>AS</td>\n",
       "      <td>763</td>\n",
       "      <td>2023-05-05T16:40:00-07:00</td>\n",
       "      <td>1</td>\n",
       "      <td>53.4</td>\n",
       "      <td>8,804,190</td>\n",
       "    </tr>\n",
       "    <tr>\n",
       "      <th>2</th>\n",
       "      <td>5/6/23</td>\n",
       "      <td>PHX</td>\n",
       "      <td>NYC</td>\n",
       "      <td>419</td>\n",
       "      <td>AS</td>\n",
       "      <td>611</td>\n",
       "      <td>2023-05-06T18:50:00-07:00</td>\n",
       "      <td>1</td>\n",
       "      <td>53.4</td>\n",
       "      <td>8,804,190</td>\n",
       "    </tr>\n",
       "    <tr>\n",
       "      <th>3</th>\n",
       "      <td>5/7/23</td>\n",
       "      <td>PHX</td>\n",
       "      <td>NYC</td>\n",
       "      <td>437</td>\n",
       "      <td>DL</td>\n",
       "      <td>673</td>\n",
       "      <td>2023-05-06T23:15:00-07:00</td>\n",
       "      <td>0</td>\n",
       "      <td>53.4</td>\n",
       "      <td>8,804,190</td>\n",
       "    </tr>\n",
       "    <tr>\n",
       "      <th>4</th>\n",
       "      <td>5/8/23</td>\n",
       "      <td>PHX</td>\n",
       "      <td>NYC</td>\n",
       "      <td>447</td>\n",
       "      <td>NaN</td>\n",
       "      <td>4020</td>\n",
       "      <td>2023-05-07T18:13:00-07:00</td>\n",
       "      <td>1</td>\n",
       "      <td>53.4</td>\n",
       "      <td>8,804,190</td>\n",
       "    </tr>\n",
       "  </tbody>\n",
       "</table>\n",
       "</div>"
      ],
      "text/plain": [
       "  Unnamed: 0 origin destination  price airline  flight_number  \\\n",
       "0     5/4/23    PHX         NYC    518      AS            763   \n",
       "1     5/5/23    PHX         NYC    518      AS            763   \n",
       "2     5/6/23    PHX         NYC    419      AS            611   \n",
       "3     5/7/23    PHX         NYC    437      DL            673   \n",
       "4     5/8/23    PHX         NYC    447     NaN           4020   \n",
       "\n",
       "                departure_at  transfers  Average Temperature (Farenheit)  \\\n",
       "0  2023-05-04T16:40:00-07:00          1                             53.4   \n",
       "1  2023-05-05T16:40:00-07:00          1                             53.4   \n",
       "2  2023-05-06T18:50:00-07:00          1                             53.4   \n",
       "3  2023-05-06T23:15:00-07:00          0                             53.4   \n",
       "4  2023-05-07T18:13:00-07:00          1                             53.4   \n",
       "\n",
       "  Population  \n",
       "0  8,804,190  \n",
       "1  8,804,190  \n",
       "2  8,804,190  \n",
       "3  8,804,190  \n",
       "4  8,804,190  "
      ]
     },
     "execution_count": 2,
     "metadata": {},
     "output_type": "execute_result"
    }
   ],
   "source": [
    "data = Path('../Group3/Group3Dataset.csv')\n",
    "df = pd.read_csv(data)\n",
    "df.head()"
   ]
  },
  {
   "cell_type": "code",
   "execution_count": 3,
   "id": "f95c4536-5c42-41ba-83e1-f3c1692bfddf",
   "metadata": {},
   "outputs": [
    {
     "data": {
      "text/plain": [
       "Unnamed: 0                          object\n",
       "origin                              object\n",
       "destination                         object\n",
       "price                                int64\n",
       "airline                             object\n",
       "flight_number                        int64\n",
       "departure_at                        object\n",
       "transfers                            int64\n",
       "Average Temperature (Farenheit)    float64\n",
       "Population                          object\n",
       "dtype: object"
      ]
     },
     "execution_count": 3,
     "metadata": {},
     "output_type": "execute_result"
    }
   ],
   "source": [
    "df.dtypes"
   ]
  },
  {
   "cell_type": "code",
   "execution_count": 4,
   "id": "b0864d7e-aaea-40db-a2ef-aeef54bbc363",
   "metadata": {},
   "outputs": [],
   "source": [
    "# Change object to int\n",
    "df['Population'] = df['Population'].str.replace(',', '').astype(int)"
   ]
  },
  {
   "cell_type": "code",
   "execution_count": 5,
   "id": "b072f377-bb7d-4555-8a64-5f9cc34b06a1",
   "metadata": {},
   "outputs": [
    {
     "data": {
      "text/plain": [
       "Unnamed: 0                          object\n",
       "origin                              object\n",
       "destination                         object\n",
       "price                                int64\n",
       "airline                             object\n",
       "flight_number                        int64\n",
       "departure_at                        object\n",
       "transfers                            int64\n",
       "Average Temperature (Farenheit)    float64\n",
       "Population                           int64\n",
       "dtype: object"
      ]
     },
     "execution_count": 5,
     "metadata": {},
     "output_type": "execute_result"
    }
   ],
   "source": [
    "df.dtypes"
   ]
  },
  {
   "cell_type": "code",
   "execution_count": null,
   "id": "af4fdcdf-2761-40be-9c6f-f50148fd3784",
   "metadata": {},
   "outputs": [],
   "source": []
  },
  {
   "cell_type": "code",
   "execution_count": 6,
   "id": "27def508-eb9e-4bfe-a394-69526378714f",
   "metadata": {},
   "outputs": [],
   "source": [
    "# Define variable and target\n",
    "X = df[['Population','transfers', 'Average Temperature (Farenheit)']].values # independent variable\n",
    "y = df['price'].values # target variable"
   ]
  },
  {
   "cell_type": "code",
   "execution_count": 7,
   "id": "00ecc3f0-5678-4b98-8245-ee6b760b7582",
   "metadata": {},
   "outputs": [],
   "source": [
    "#Split for training and testing\n",
    "from sklearn.model_selection import train_test_split\n",
    "X_train, X_test, y_train, y_test = train_test_split(X, y, test_size=0.2, random_state=0)"
   ]
  },
  {
   "cell_type": "code",
   "execution_count": 13,
   "id": "dd929e1e-d260-4242-a9e4-7df6ecd8c25e",
   "metadata": {},
   "outputs": [],
   "source": [
    "# Create Logistic Regression Model\n",
    "from sklearn.linear_model import LogisticRegression\n",
    "classifier = LinearRegression()"
   ]
  },
  {
   "cell_type": "code",
   "execution_count": null,
   "id": "eb3bc729-a822-4dc2-9dd4-b4d7e3791775",
   "metadata": {},
   "outputs": [],
   "source": []
  },
  {
   "cell_type": "code",
   "execution_count": 14,
   "id": "404f999b-7249-4b19-8a00-e7203795ac8a",
   "metadata": {},
   "outputs": [
    {
     "data": {
      "text/plain": [
       "LinearRegression()"
      ]
     },
     "execution_count": 14,
     "metadata": {},
     "output_type": "execute_result"
    }
   ],
   "source": [
    "# Fit the model\n",
    "classifier.fit(X_train, y_train)"
   ]
  },
  {
   "cell_type": "code",
   "execution_count": 21,
   "id": "f07dfab4-8e4e-4213-9d7d-2e11a8a6bcde",
   "metadata": {},
   "outputs": [
    {
     "data": {
      "text/html": [
       "<div>\n",
       "<style scoped>\n",
       "    .dataframe tbody tr th:only-of-type {\n",
       "        vertical-align: middle;\n",
       "    }\n",
       "\n",
       "    .dataframe tbody tr th {\n",
       "        vertical-align: top;\n",
       "    }\n",
       "\n",
       "    .dataframe thead th {\n",
       "        text-align: right;\n",
       "    }\n",
       "</style>\n",
       "<table border=\"1\" class=\"dataframe\">\n",
       "  <thead>\n",
       "    <tr style=\"text-align: right;\">\n",
       "      <th></th>\n",
       "      <th>Prediction</th>\n",
       "      <th>Actual</th>\n",
       "    </tr>\n",
       "  </thead>\n",
       "  <tbody>\n",
       "    <tr>\n",
       "      <th>0</th>\n",
       "      <td>159.283903</td>\n",
       "      <td>197</td>\n",
       "    </tr>\n",
       "    <tr>\n",
       "      <th>1</th>\n",
       "      <td>362.016663</td>\n",
       "      <td>416</td>\n",
       "    </tr>\n",
       "    <tr>\n",
       "      <th>2</th>\n",
       "      <td>227.839606</td>\n",
       "      <td>147</td>\n",
       "    </tr>\n",
       "    <tr>\n",
       "      <th>3</th>\n",
       "      <td>256.749996</td>\n",
       "      <td>277</td>\n",
       "    </tr>\n",
       "    <tr>\n",
       "      <th>4</th>\n",
       "      <td>292.167538</td>\n",
       "      <td>286</td>\n",
       "    </tr>\n",
       "    <tr>\n",
       "      <th>5</th>\n",
       "      <td>229.133027</td>\n",
       "      <td>2275</td>\n",
       "    </tr>\n",
       "    <tr>\n",
       "      <th>6</th>\n",
       "      <td>292.167538</td>\n",
       "      <td>464</td>\n",
       "    </tr>\n",
       "    <tr>\n",
       "      <th>7</th>\n",
       "      <td>362.016663</td>\n",
       "      <td>240</td>\n",
       "    </tr>\n",
       "    <tr>\n",
       "      <th>8</th>\n",
       "      <td>362.016663</td>\n",
       "      <td>287</td>\n",
       "    </tr>\n",
       "    <tr>\n",
       "      <th>9</th>\n",
       "      <td>201.884347</td>\n",
       "      <td>67</td>\n",
       "    </tr>\n",
       "  </tbody>\n",
       "</table>\n",
       "</div>"
      ],
      "text/plain": [
       "   Prediction  Actual\n",
       "0  159.283903     197\n",
       "1  362.016663     416\n",
       "2  227.839606     147\n",
       "3  256.749996     277\n",
       "4  292.167538     286\n",
       "5  229.133027    2275\n",
       "6  292.167538     464\n",
       "7  362.016663     240\n",
       "8  362.016663     287\n",
       "9  201.884347      67"
      ]
     },
     "execution_count": 21,
     "metadata": {},
     "output_type": "execute_result"
    }
   ],
   "source": [
    "y_pred = classifier.predict(X_test)\n",
    "results = pd.DataFrame({\"Prediction\": y_pred, \"Actual\": y_test}).reset_index(drop=True)\n",
    "results.head(10)"
   ]
  },
  {
   "cell_type": "code",
   "execution_count": 22,
   "id": "fb8bccbd-58c1-44d4-8b3e-41f9783b1264",
   "metadata": {},
   "outputs": [],
   "source": [
    "import numpy as np"
   ]
  },
  {
   "cell_type": "code",
   "execution_count": 23,
   "id": "b7b60a61-dfdd-44c0-a577-3bfafa44b007",
   "metadata": {},
   "outputs": [
    {
     "name": "stdout",
     "output_type": "stream",
     "text": [
      "49874.226649167766\n"
     ]
    }
   ],
   "source": [
    "MSE = np.square(np.subtract(y_test,y_pred)).mean()\n",
    "print(MSE)"
   ]
  },
  {
   "cell_type": "code",
   "execution_count": null,
   "id": "cf89ae1e-b34b-4412-a8b8-9d9a7f751ef6",
   "metadata": {},
   "outputs": [],
   "source": []
  },
  {
   "cell_type": "code",
   "execution_count": null,
   "id": "a4f8d8a8-531b-4ec5-a056-e1370fcadd29",
   "metadata": {},
   "outputs": [],
   "source": []
  },
  {
   "cell_type": "code",
   "execution_count": null,
   "id": "0f4c5020-3a12-4a18-a26e-2b70e98bef60",
   "metadata": {},
   "outputs": [],
   "source": []
  },
  {
   "cell_type": "code",
   "execution_count": null,
   "id": "12c97a96-cf5f-4e7f-a2dc-585308cf8b94",
   "metadata": {},
   "outputs": [],
   "source": []
  }
 ],
 "metadata": {
  "kernelspec": {
   "display_name": "mlenv",
   "language": "python",
   "name": "mlenv"
  },
  "language_info": {
   "codemirror_mode": {
    "name": "ipython",
    "version": 3
   },
   "file_extension": ".py",
   "mimetype": "text/x-python",
   "name": "python",
   "nbconvert_exporter": "python",
   "pygments_lexer": "ipython3",
   "version": "3.7.13"
  }
 },
 "nbformat": 4,
 "nbformat_minor": 5
}
